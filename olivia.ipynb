{
 "cells": [
  {
   "cell_type": "code",
   "execution_count": null,
   "metadata": {},
   "outputs": [],
   "source": [
    "def Selection(self):\n",
    "    self.Schedule.On(self.DateRules.WeekStart(), self.TimeRules.At(12, 0), self.day = 0)\n",
    "    if self.day == 4:\n",
    "        self.selection_flag = True"
   ]
  },
  {
   "cell_type": "code",
   "execution_count": null,
   "metadata": {},
   "outputs": [],
   "source": [
    "class SymbolData:\n",
    "    def __init__(self, period):\n",
    "        self.closes = RollingWindow[float](13)\n",
    "        self.period = period\n",
    "    \n",
    "    def update(self, close):\n",
    "        self.closes.Add(close)\n",
    "\n",
    "    def is_ready(self):\n",
    "        return self.closes.IsReady\n",
    "\n",
    "    def weekly_return(self):\n",
    "        return self.closes[0] / self.closes[4] -1\n",
    "\n",
    "    def monthly_return(self):\n",
    "        return self.closes[0] / self.closes[self.period] -1\n",
    "        "
   ]
  }
 ],
 "metadata": {
  "language_info": {
   "name": "python"
  },
  "orig_nbformat": 4
 },
 "nbformat": 4,
 "nbformat_minor": 2
}
